{
  "nbformat": 4,
  "nbformat_minor": 0,
  "metadata": {
    "colab": {
      "provenance": [],
      "authorship_tag": "ABX9TyOS2daFq5wNuP+CgoasP1+0",
      "include_colab_link": true
    },
    "kernelspec": {
      "name": "python3",
      "display_name": "Python 3"
    },
    "language_info": {
      "name": "python"
    }
  },
  "cells": [
    {
      "cell_type": "markdown",
      "metadata": {
        "id": "view-in-github",
        "colab_type": "text"
      },
      "source": [
        "<a href=\"https://colab.research.google.com/github/Sagar856/Data-Science-Notes/blob/main/Hypothesis_Testing.ipynb\" target=\"_parent\"><img src=\"https://colab.research.google.com/assets/colab-badge.svg\" alt=\"Open In Colab\"/></a>"
      ]
    },
    {
      "cell_type": "code",
      "execution_count": null,
      "metadata": {
        "id": "5m0CHay1vMK5"
      },
      "outputs": [],
      "source": [
        "import numpy as np\n",
        "import pandas as pd\n",
        "from scipy import stats\n",
        "import scipy"
      ]
    },
    {
      "cell_type": "code",
      "source": [
        "(7.2-4)/(3/np.sqrt(50))"
      ],
      "metadata": {
        "colab": {
          "base_uri": "https://localhost:8080/"
        },
        "id": "0M5gP0H5vdxG",
        "outputId": "c855b077-3e8d-4052-97d7-9524a4e36c72"
      },
      "execution_count": null,
      "outputs": [
        {
          "output_type": "execute_result",
          "data": {
            "text/plain": [
              "7.542472332656508"
            ]
          },
          "metadata": {},
          "execution_count": 3
        }
      ]
    },
    {
      "cell_type": "code",
      "source": [
        "(2 * stats.t.cdf(-7.5424,49))"
      ],
      "metadata": {
        "colab": {
          "base_uri": "https://localhost:8080/"
        },
        "id": "fxUt4k1fvnpo",
        "outputId": "8991715b-ba65-4459-df24-34f35cd26f9e"
      },
      "execution_count": null,
      "outputs": [
        {
          "output_type": "execute_result",
          "data": {
            "text/plain": [
              "9.62851076804498e-10"
            ]
          },
          "metadata": {},
          "execution_count": 4
        }
      ]
    },
    {
      "cell_type": "markdown",
      "source": [
        "# One Tail Test"
      ],
      "metadata": {
        "id": "_MnBh3_AvsiD"
      }
    },
    {
      "cell_type": "code",
      "source": [
        "data = pd.Series([0.593, 0.142, 0.329, 0.691, 0.231, 0.793, 0.519, 0.392, 0.418])"
      ],
      "metadata": {
        "id": "8PE2ZcKpvqaD"
      },
      "execution_count": null,
      "outputs": []
    },
    {
      "cell_type": "code",
      "source": [
        "p = scipy.stats.ttest_1samp(data,0.3)[1]\n",
        "p_value = p/2"
      ],
      "metadata": {
        "id": "G32obLmdvzZF"
      },
      "execution_count": null,
      "outputs": []
    },
    {
      "cell_type": "code",
      "source": [
        "p_value"
      ],
      "metadata": {
        "colab": {
          "base_uri": "https://localhost:8080/"
        },
        "id": "w5UmdTGlv9Fy",
        "outputId": "26776715-9053-430b-d0e4-df5ab4c25349"
      },
      "execution_count": null,
      "outputs": [
        {
          "output_type": "execute_result",
          "data": {
            "text/plain": [
              "0.029265164842448826"
            ]
          },
          "metadata": {},
          "execution_count": 11
        }
      ]
    },
    {
      "cell_type": "markdown",
      "source": [
        "# Two Tail Test"
      ],
      "metadata": {
        "id": "nXF-9Siny4RD"
      }
    },
    {
      "cell_type": "code",
      "source": [
        "Control=pd.Series([91, 87, 99, 77, 88, 91])\n",
        "Treat =pd.Series([101, 110, 103, 93, 99, 104])"
      ],
      "metadata": {
        "id": "fgNO6984wBfP"
      },
      "execution_count": null,
      "outputs": []
    },
    {
      "cell_type": "code",
      "source": [
        "stats.ttest_ind(Control,Treat)"
      ],
      "metadata": {
        "colab": {
          "base_uri": "https://localhost:8080/"
        },
        "id": "-edJ5GXqzHD2",
        "outputId": "472dc542-4eb5-4f99-aae3-a4f472146ea1"
      },
      "execution_count": null,
      "outputs": [
        {
          "output_type": "execute_result",
          "data": {
            "text/plain": [
              "TtestResult(statistic=-3.4456126735364876, pvalue=0.006272124350809803, df=10.0)"
            ]
          },
          "metadata": {},
          "execution_count": 13
        }
      ]
    },
    {
      "cell_type": "markdown",
      "source": [
        "# 2 Proprtion Test/ Binomial test"
      ],
      "metadata": {
        "id": "7ywfqASW2c2t"
      }
    },
    {
      "cell_type": "code",
      "source": [
        " n1 = 247\n",
        " p1 = 0.37\n",
        " n2 = 308\n",
        " p2 = 0.39"
      ],
      "metadata": {
        "id": "ZJYJpZDrzMBn"
      },
      "execution_count": null,
      "outputs": []
    },
    {
      "cell_type": "code",
      "source": [
        "population1 = np.random.binomial(1,p1,n1)"
      ],
      "metadata": {
        "id": "pfM83XqC2sGM"
      },
      "execution_count": null,
      "outputs": []
    },
    {
      "cell_type": "code",
      "source": [
        "population2 = np.random.binomial(1,p2,n2)"
      ],
      "metadata": {
        "id": "ANAZcgYM23Np"
      },
      "execution_count": null,
      "outputs": []
    },
    {
      "cell_type": "code",
      "source": [
        "import statsmodels.api as sm\n",
        "sm.stats.ttest_ind(population1, population2)"
      ],
      "metadata": {
        "colab": {
          "base_uri": "https://localhost:8080/"
        },
        "id": "BRC_Geeb288B",
        "outputId": "fae5fbb8-5d55-4069-c03d-9a9448d3cc48"
      },
      "execution_count": null,
      "outputs": [
        {
          "output_type": "execute_result",
          "data": {
            "text/plain": [
              "(-2.5084386118069033, 0.01241171644353738, 553.0)"
            ]
          },
          "metadata": {},
          "execution_count": 17
        }
      ]
    },
    {
      "cell_type": "code",
      "source": [],
      "metadata": {
        "id": "ciyu9Sqt3I02"
      },
      "execution_count": null,
      "outputs": []
    }
  ]
}